{
  "cells": [
    {
      "cell_type": "markdown",
      "metadata": {
        "id": "M-2RQCbrSSA-"
      },
      "source": [
        "**Detection of fake news using Machine Learning Alogrithms**"
      ]
    },
    {
      "cell_type": "code",
      "execution_count": null,
      "metadata": {
        "colab": {
          "base_uri": "https://localhost:8080/"
        },
        "id": "m_XrU1uLSFDA",
        "outputId": "f6e87006-cce7-4d30-d4e3-6d08b517967a"
      },
      "outputs": [
        {
          "name": "stderr",
          "output_type": "stream",
          "text": [
            "[nltk_data] Downloading package punkt to /root/nltk_data...\n",
            "[nltk_data]   Package punkt is already up-to-date!\n",
            "[nltk_data] Downloading package stopwords to /root/nltk_data...\n",
            "[nltk_data]   Package stopwords is already up-to-date!\n"
          ]
        }
      ],
      "source": [
        "# Importing the dependencies\n",
        "import pandas as pd\n",
        "import seaborn as sns\n",
        "import matplotlib.pyplot as plt\n",
        "from tqdm import tqdm\n",
        "import re\n",
        "import nltk\n",
        "nltk.download('punkt')\n",
        "nltk.download('stopwords')\n",
        "from nltk.corpus import stopwords\n",
        "from nltk.tokenize import word_tokenize\n",
        "from nltk.stem.porter import PorterStemmer\n",
        "from sklearn.model_selection import train_test_split\n",
        "from sklearn.metrics import accuracy_score\n",
        "from sklearn.linear_model import LogisticRegression\n",
        "from sklearn.feature_extraction.text import TfidfVectorizer\n",
        "from sklearn.linear_model import LogisticRegression\n",
        "from sklearn.tree import DecisionTreeClassifier\n",
        "from sklearn.svm import LinearSVC\n",
        "from sklearn.naive_bayes import MultinomialNB\n",
        "from sklearn.linear_model import PassiveAggressiveClassifier\n",
        "from sklearn import metrics\n",
        "from sklearn.metrics import classification_report\n",
        "from sklearn.ensemble import RandomForestClassifier\n"
      ]
    },
    {
      "cell_type": "code",
      "execution_count": null,
      "metadata": {
        "colab": {
          "base_uri": "https://localhost:8080/"
        },
        "id": "bVCu-EXATJex",
        "outputId": "98d3af2e-0f3f-47e6-9a6b-07cdf1aac4f5"
      },
      "outputs": [
        {
          "data": {
            "text/plain": [
              "(44919, 5)"
            ]
          },
          "execution_count": 54,
          "metadata": {},
          "output_type": "execute_result"
        }
      ],
      "source": [
        "# Loading the dataset\n",
        "\n",
        "data = pd.read_csv('/content/News.csv',index_col=0)\n",
        "data.shape"
      ]
    },
    {
      "cell_type": "code",
      "execution_count": null,
      "metadata": {
        "id": "jc2skm15TJTh"
      },
      "outputs": [],
      "source": [
        "# Dropping unwanted material\n",
        "data = data.drop([\"title\", \"subject\",\"date\"], axis = 1)"
      ]
    },
    {
      "cell_type": "code",
      "execution_count": null,
      "metadata": {
        "colab": {
          "base_uri": "https://localhost:8080/",
          "height": 147
        },
        "id": "HD1aYyEUTJQt",
        "outputId": "6c140da7-fd83-4d17-80a2-4c14d6fb748e"
      },
      "outputs": [
        {
          "data": {
            "text/html": [
              "<div>\n",
              "<style scoped>\n",
              "    .dataframe tbody tr th:only-of-type {\n",
              "        vertical-align: middle;\n",
              "    }\n",
              "\n",
              "    .dataframe tbody tr th {\n",
              "        vertical-align: top;\n",
              "    }\n",
              "\n",
              "    .dataframe thead th {\n",
              "        text-align: right;\n",
              "    }\n",
              "</style>\n",
              "<table border=\"1\" class=\"dataframe\">\n",
              "  <thead>\n",
              "    <tr style=\"text-align: right;\">\n",
              "      <th></th>\n",
              "      <th>0</th>\n",
              "    </tr>\n",
              "  </thead>\n",
              "  <tbody>\n",
              "    <tr>\n",
              "      <th>text</th>\n",
              "      <td>0</td>\n",
              "    </tr>\n",
              "    <tr>\n",
              "      <th>class</th>\n",
              "      <td>0</td>\n",
              "    </tr>\n",
              "  </tbody>\n",
              "</table>\n",
              "</div><br><label><b>dtype:</b> int64</label>"
            ],
            "text/plain": [
              "text     0\n",
              "class    0\n",
              "dtype: int64"
            ]
          },
          "execution_count": 56,
          "metadata": {},
          "output_type": "execute_result"
        }
      ],
      "source": [
        "# Checking if there is any null value in dataset\n",
        "data.isnull().sum()"
      ]
    },
    {
      "cell_type": "code",
      "execution_count": null,
      "metadata": {
        "id": "F3sa05a4TJN-"
      },
      "outputs": [],
      "source": [
        "# Shuffling the data to model to not get bias\n",
        "data = data.sample(frac=1)\n",
        "data.reset_index(inplace=True)\n",
        "data.drop([\"index\"], axis=1, inplace=True)"
      ]
    },
    {
      "cell_type": "code",
      "execution_count": null,
      "metadata": {
        "id": "zCoBHGRCTJK4"
      },
      "outputs": [],
      "source": [
        "# Data processing\n",
        "def preprocess_text(text_data):\n",
        "    preprocessed_text = []\n",
        "\n",
        "    for sentence in tqdm(text_data):\n",
        "        sentence = re.sub(r'[^\\w\\s]', '', sentence)\n",
        "        preprocessed_text.append(' '.join(token.lower()\n",
        "                                  for token in str(sentence).split()\n",
        "                                  if token not in stopwords.words('english')))\n",
        "\n",
        "    return preprocessed_text\n"
      ]
    },
    {
      "cell_type": "code",
      "execution_count": null,
      "metadata": {
        "colab": {
          "background_save": true,
          "base_uri": "https://localhost:8080/"
        },
        "id": "QD-_DpvbTJH6",
        "outputId": "696dbe0d-cb6a-4b1b-a728-d4cd6424c082"
      },
      "outputs": [
        {
          "name": "stderr",
          "output_type": "stream",
          "text": [
            " 81%|████████▏ | 36608/44919 [29:59<05:27, 25.42it/s]"
          ]
        }
      ],
      "source": [
        "# Data processing\n",
        "preprocessed_review = preprocess_text(data['text'].values)\n",
        "data['text'] = preprocessed_review"
      ]
    },
    {
      "cell_type": "code",
      "execution_count": null,
      "metadata": {
        "id": "JgrwR-zQTJFo"
      },
      "outputs": [],
      "source": [
        "\n",
        "\n",
        "x_train, x_test, y_train, y_test = train_test_split(data['text'],\n",
        "                                                    data['class'],\n",
        "                                                    test_size=0.25)\n"
      ]
    },
    {
      "cell_type": "code",
      "execution_count": null,
      "metadata": {
        "id": "kPQ3bk2zTJCA"
      },
      "outputs": [],
      "source": [
        "vectorization = TfidfVectorizer()\n",
        "x_train = vectorization.fit_transform(x_train)\n",
        "x_test = vectorization.transform(x_test)"
      ]
    },
    {
      "cell_type": "markdown",
      "metadata": {
        "id": "d_mslJLpSocD"
      },
      "source": [
        "**Logistic Regression**\n"
      ]
    },
    {
      "cell_type": "code",
      "execution_count": null,
      "metadata": {
        "id": "pYCsBFaIVhjz"
      },
      "outputs": [],
      "source": [
        "# training the model in LogisticRegression\n",
        "model = LogisticRegression()\n",
        "model.fit(x_train, y_train)\n",
        "\n",
        "# testing the model\n",
        "print(accuracy_score(y_train, model.predict(x_train)))\n",
        "print(accuracy_score(y_test, model.predict(x_test)))"
      ]
    },
    {
      "cell_type": "code",
      "execution_count": null,
      "metadata": {
        "id": "3Fnp_sNHjiLm"
      },
      "outputs": [],
      "source": [
        "# printing confusion matrix in LogisticRegression\n",
        "cm = metrics.confusion_matrix(y_test, model.predict(x_test))\n",
        "\n",
        "cm_display = metrics.ConfusionMatrixDisplay(confusion_matrix=cm,\n",
        "                                            display_labels=[True, False])\n",
        "\n",
        "cm_display.plot()\n",
        "plt.show()"
      ]
    },
    {
      "cell_type": "code",
      "execution_count": null,
      "metadata": {
        "colab": {
          "base_uri": "https://localhost:8080/"
        },
        "id": "iUd0ekGFlexb",
        "outputId": "d185fba9-5a81-47c2-8460-44a6606f1ddf"
      },
      "outputs": [
        {
          "name": "stdout",
          "output_type": "stream",
          "text": [
            "Classification Report:\n",
            "               precision    recall  f1-score   support\n",
            "\n",
            "           0       0.99      0.99      0.99      5878\n",
            "           1       0.99      0.99      0.99      5352\n",
            "\n",
            "    accuracy                           0.99     11230\n",
            "   macro avg       0.99      0.99      0.99     11230\n",
            "weighted avg       0.99      0.99      0.99     11230\n",
            "\n"
          ]
        }
      ],
      "source": [
        "# Classification report in LogisticRegression\n",
        "y_pred = model.predict(x_test)\n",
        "report = classification_report(y_test, y_pred)\n",
        "print(\"Classification Report:\\n\", report)"
      ]
    },
    {
      "cell_type": "markdown",
      "metadata": {
        "id": "X0Mf7tHCSoZK"
      },
      "source": [
        " **DecisionTree** **Classifier**"
      ]
    },
    {
      "cell_type": "code",
      "execution_count": null,
      "metadata": {
        "colab": {
          "base_uri": "https://localhost:8080/"
        },
        "id": "wc705OzmVrha",
        "outputId": "fa399ceb-d332-4f16-ce98-b8f1db17c2b2"
      },
      "outputs": [
        {
          "name": "stdout",
          "output_type": "stream",
          "text": [
            "0.9999703167205913\n",
            "0.9973285841495992\n"
          ]
        }
      ],
      "source": [
        "# training the model in DecisionTreeClassifer\n",
        "model = DecisionTreeClassifier()\n",
        "model.fit(x_train, y_train)\n",
        "\n",
        "# testing the model\n",
        "print(accuracy_score(y_train, model.predict(x_train)))\n",
        "print(accuracy_score(y_test, model.predict(x_test)))\n"
      ]
    },
    {
      "cell_type": "code",
      "execution_count": null,
      "metadata": {
        "colab": {
          "base_uri": "https://localhost:8080/",
          "height": 449
        },
        "id": "LVQr3S8BVyfb",
        "outputId": "5c09f134-4ec8-48bc-c5ac-a649fbc4d25e"
      },
      "outputs": [
        {
          "data": {
            "image/png": "[encoded data removed]",
            "text/plain": [
              "<Figure size 640x480 with 2 Axes>"
            ]
          },
          "metadata": {},
          "output_type": "display_data"
        }
      ],
      "source": [
        "# printing confusion matrix in DecisionTreeClassifier\n",
        "cm = metrics.confusion_matrix(y_test, model.predict(x_test))\n",
        "\n",
        "cm_display = metrics.ConfusionMatrixDisplay(confusion_matrix=cm,\n",
        "                                            display_labels=[True, False])\n",
        "\n",
        "cm_display.plot()\n",
        "plt.show()"
      ]
    },
    {
      "cell_type": "code",
      "execution_count": null,
      "metadata": {
        "colab": {
          "base_uri": "https://localhost:8080/"
        },
        "id": "QgtFUtNamGY0",
        "outputId": "301022db-f65e-43d8-8630-19e4027d9f98"
      },
      "outputs": [
        {
          "name": "stdout",
          "output_type": "stream",
          "text": [
            "Classification Report:\n",
            "               precision    recall  f1-score   support\n",
            "\n",
            "           0       1.00      1.00      1.00      5878\n",
            "           1       1.00      1.00      1.00      5352\n",
            "\n",
            "    accuracy                           1.00     11230\n",
            "   macro avg       1.00      1.00      1.00     11230\n",
            "weighted avg       1.00      1.00      1.00     11230\n",
            "\n"
          ]
        }
      ],
      "source": [
        "# Classification report in DecisionTreeClassifier\n",
        "y_pred = model.predict(x_test)\n",
        "report = classification_report(y_test, y_pred)\n",
        "print(\"Classification Report:\\n\", report)"
      ]
    },
    {
      "cell_type": "markdown",
      "metadata": {
        "id": "YbSlXr2PSoWE"
      },
      "source": [
        "**Support** **Vectro** **Machine**"
      ]
    },
    {
      "cell_type": "code",
      "execution_count": null,
      "metadata": {
        "colab": {
          "base_uri": "https://localhost:8080/"
        },
        "id": "B9YydOluWJW6",
        "outputId": "3d55aec0-0bd3-4b22-8c33-327309ae10f2"
      },
      "outputs": [
        {
          "name": "stderr",
          "output_type": "stream",
          "text": [
            "/usr/local/lib/python3.10/dist-packages/sklearn/svm/_classes.py:32: FutureWarning: The default value of `dual` will change from `True` to `'auto'` in 1.5. Set the value of `dual` explicitly to suppress the warning.\n",
            "  warnings.warn(\n"
          ]
        },
        {
          "name": "stdout",
          "output_type": "stream",
          "text": [
            "0.9999406334411826\n",
            "0.9957257346393589\n"
          ]
        }
      ],
      "source": [
        "# training the model in support Vector Machine\n",
        "model = LinearSVC()\n",
        "model.fit(x_train, y_train)\n",
        "# testing the model\n",
        "print(accuracy_score(y_train, model.predict(x_train)))\n",
        "print(accuracy_score(y_test, model.predict(x_test)))"
      ]
    },
    {
      "cell_type": "code",
      "execution_count": null,
      "metadata": {
        "colab": {
          "base_uri": "https://localhost:8080/",
          "height": 449
        },
        "id": "pnVbHYswWJPm",
        "outputId": "169f0a01-6133-4a27-b8f1-ead3c506e4c5"
      },
      "outputs": [
        {
          "data": {
            "image/png": "[encoded data removed]",
            "text/plain": [
              "<Figure size 640x480 with 2 Axes>"
            ]
          },
          "metadata": {},
          "output_type": "display_data"
        }
      ],
      "source": [
        "# printing confusion matrix in Support Vectro Machine\n",
        "cm = metrics.confusion_matrix(y_test, model.predict(x_test))\n",
        "\n",
        "cm_display = metrics.ConfusionMatrixDisplay(confusion_matrix=cm,\n",
        "                                            display_labels=[True, False])\n",
        "\n",
        "cm_display.plot()\n",
        "plt.show()"
      ]
    },
    {
      "cell_type": "code",
      "execution_count": null,
      "metadata": {
        "colab": {
          "base_uri": "https://localhost:8080/"
        },
        "id": "ZFIoNSshmIda",
        "outputId": "74304d6d-22ed-431a-e086-4131f85c9048"
      },
      "outputs": [
        {
          "name": "stdout",
          "output_type": "stream",
          "text": [
            "Classification Report:\n",
            "               precision    recall  f1-score   support\n",
            "\n",
            "           0       1.00      1.00      1.00      5878\n",
            "           1       1.00      1.00      1.00      5352\n",
            "\n",
            "    accuracy                           1.00     11230\n",
            "   macro avg       1.00      1.00      1.00     11230\n",
            "weighted avg       1.00      1.00      1.00     11230\n",
            "\n"
          ]
        }
      ],
      "source": [
        "# Classification report in Support Vectro Machine\n",
        "y_pred = model.predict(x_test)\n",
        "report = classification_report(y_test, y_pred)\n",
        "print(\"Classification Report:\\n\", report)"
      ]
    },
    {
      "cell_type": "markdown",
      "metadata": {
        "id": "Ih6o-C-0SoTG"
      },
      "source": [
        " **Naive_Bayes**"
      ]
    },
    {
      "cell_type": "code",
      "execution_count": null,
      "metadata": {
        "colab": {
          "base_uri": "https://localhost:8080/"
        },
        "id": "pRteA2X3WLB7",
        "outputId": "8ed449b9-bc1e-4933-fdf1-ff9370581ac6"
      },
      "outputs": [
        {
          "name": "stdout",
          "output_type": "stream",
          "text": [
            "0.9578794265190418\n",
            "0.9483526268922529\n"
          ]
        }
      ],
      "source": [
        "# training the model in Naive_Bayes\n",
        "model =  MultinomialNB()\n",
        "model.fit(x_train, y_train)\n",
        "# testing the model\n",
        "print(accuracy_score(y_train, model.predict(x_train)))\n",
        "print(accuracy_score(y_test, model.predict(x_test)))\n"
      ]
    },
    {
      "cell_type": "code",
      "execution_count": null,
      "metadata": {
        "colab": {
          "base_uri": "https://localhost:8080/",
          "height": 449
        },
        "id": "pa2-9HwaWK89",
        "outputId": "fd381de3-b1f5-4c0a-aded-492dfbce42ff"
      },
      "outputs": [
        {
          "data": {
            "image/png": "[encoded data removed]",
            "text/plain": [
              "<Figure size 640x480 with 2 Axes>"
            ]
          },
          "metadata": {},
          "output_type": "display_data"
        }
      ],
      "source": [
        "# printing confusion matrix in Naive_Bayes\n",
        "cm = metrics.confusion_matrix(y_test, model.predict(x_test))\n",
        "\n",
        "cm_display = metrics.ConfusionMatrixDisplay(confusion_matrix=cm,\n",
        "                                            display_labels=[True, False])\n",
        "\n",
        "cm_display.plot()\n",
        "plt.show()"
      ]
    },
    {
      "cell_type": "code",
      "execution_count": null,
      "metadata": {
        "colab": {
          "base_uri": "https://localhost:8080/"
        },
        "id": "73YZ_HkomKTp",
        "outputId": "917b35db-e439-4ed0-a13c-abbb51b7496d"
      },
      "outputs": [
        {
          "name": "stdout",
          "output_type": "stream",
          "text": [
            "Classification Report:\n",
            "               precision    recall  f1-score   support\n",
            "\n",
            "           0       0.96      0.94      0.95      5878\n",
            "           1       0.94      0.96      0.95      5352\n",
            "\n",
            "    accuracy                           0.95     11230\n",
            "   macro avg       0.95      0.95      0.95     11230\n",
            "weighted avg       0.95      0.95      0.95     11230\n",
            "\n"
          ]
        }
      ],
      "source": [
        "# Classification report in  Naive_Bayes\n",
        "y_pred = model.predict(x_test)\n",
        "report = classification_report(y_test, y_pred)\n",
        "print(\"Classification Report:\\n\", report)"
      ]
    },
    {
      "cell_type": "markdown",
      "metadata": {
        "id": "ud0xBCqwSoGg"
      },
      "source": [
        "**PassieveAgressive** **Classifier**"
      ]
    },
    {
      "cell_type": "code",
      "execution_count": null,
      "metadata": {
        "colab": {
          "base_uri": "https://localhost:8080/"
        },
        "id": "RKaWEjqzSM-X",
        "outputId": "42b9ddc9-9062-4cf0-ad9b-c56334b7ee81"
      },
      "outputs": [
        {
          "name": "stdout",
          "output_type": "stream",
          "text": [
            "0.9999703167205913\n",
            "0.9965271593944791\n"
          ]
        }
      ],
      "source": [
        "# training the model in PassieveAgressive Classifier\n",
        "model = PassiveAggressiveClassifier()\n",
        "model.fit(x_train, y_train)\n",
        "# testing the model\n",
        "print(accuracy_score(y_train, model.predict(x_train)))\n",
        "print(accuracy_score(y_test, model.predict(x_test)))\n"
      ]
    },
    {
      "cell_type": "code",
      "execution_count": null,
      "metadata": {
        "colab": {
          "base_uri": "https://localhost:8080/",
          "height": 449
        },
        "id": "7cRb0FmsSNBl",
        "outputId": "82ecae5c-1b00-4a19-82b5-f6b7cb15c30b"
      },
      "outputs": [
        {
          "data": {
            "image/png": "[encoded data removed]",
            "text/plain": [
              "<Figure size 640x480 with 2 Axes>"
            ]
          },
          "metadata": {},
          "output_type": "display_data"
        }
      ],
      "source": [
        "# printing confusion matrix in PassieveAgressive Classifier\n",
        "cm = metrics.confusion_matrix(y_test, model.predict(x_test))\n",
        "\n",
        "cm_display = metrics.ConfusionMatrixDisplay(confusion_matrix=cm,\n",
        "                                            display_labels=[True, False])\n",
        "\n",
        "cm_display.plot()\n",
        "plt.show()"
      ]
    },
    {
      "cell_type": "code",
      "execution_count": null,
      "metadata": {
        "colab": {
          "base_uri": "https://localhost:8080/"
        },
        "id": "Dn952Ph_mMp8",
        "outputId": "1f19afef-a5b2-4346-ad92-a059ce069183"
      },
      "outputs": [
        {
          "name": "stdout",
          "output_type": "stream",
          "text": [
            "Classification Report:\n",
            "               precision    recall  f1-score   support\n",
            "\n",
            "           0       1.00      1.00      1.00      5878\n",
            "           1       1.00      1.00      1.00      5352\n",
            "\n",
            "    accuracy                           1.00     11230\n",
            "   macro avg       1.00      1.00      1.00     11230\n",
            "weighted avg       1.00      1.00      1.00     11230\n",
            "\n"
          ]
        }
      ],
      "source": [
        "# Classification report in PassieveAgressive Classifier\n",
        "y_pred = model.predict(x_test)\n",
        "report = classification_report(y_test, y_pred)\n",
        "print(\"Classification Report:\\n\", report)"
      ]
    },
    {
      "cell_type": "markdown",
      "metadata": {
        "id": "VJysFBPazXSx"
      },
      "source": [
        "**RandomForestClassifier**"
      ]
    },
    {
      "cell_type": "code",
      "execution_count": null,
      "metadata": {
        "colab": {
          "base_uri": "https://localhost:8080/"
        },
        "id": "AeIgiyISx8WD",
        "outputId": "9672db8a-0bcd-408e-e499-44123b9902a3"
      },
      "outputs": [
        {
          "name": "stdout",
          "output_type": "stream",
          "text": [
            "0.9999703167205913\n",
            "0.9918967052537845\n"
          ]
        }
      ],
      "source": [
        "# training the model in RandomForestClassifier\n",
        "from sklearn.ensemble import RandomForestClassifier\n",
        "\n",
        "model = RandomForestClassifier(random_state=42)\n",
        "model.fit(x_train, y_train)\n",
        "# testing the model\n",
        "print(accuracy_score(y_train, model.predict(x_train)))\n",
        "print(accuracy_score(y_test, model.predict(x_test)))\n"
      ]
    },
    {
      "cell_type": "code",
      "execution_count": null,
      "metadata": {
        "colab": {
          "base_uri": "https://localhost:8080/",
          "height": 449
        },
        "id": "Cijpk3MZzbWJ",
        "outputId": "cad02800-2791-4e2d-cb5c-b495d7938450"
      },
      "outputs": [
        {
          "data": {
            "image/png": "[encoded data removed]",
            "text/plain": [
              "<Figure size 640x480 with 2 Axes>"
            ]
          },
          "metadata": {},
          "output_type": "display_data"
        }
      ],
      "source": [
        "# printing confusion matrix in RandomForestClassifier\n",
        "cm = metrics.confusion_matrix(y_test, model.predict(x_test))\n",
        "\n",
        "cm_display = metrics.ConfusionMatrixDisplay(confusion_matrix=cm,\n",
        "                                            display_labels=[True, False])\n",
        "\n",
        "cm_display.plot()\n",
        "plt.show()"
      ]
    },
    {
      "cell_type": "code",
      "execution_count": null,
      "metadata": {
        "colab": {
          "base_uri": "https://localhost:8080/"
        },
        "id": "OoxtLRJ7zbOH",
        "outputId": "d154408b-5c6c-4853-c223-56e278e80216"
      },
      "outputs": [
        {
          "name": "stdout",
          "output_type": "stream",
          "text": [
            "Classification Report:\n",
            "               precision    recall  f1-score   support\n",
            "\n",
            "           0       1.00      0.99      0.99      5878\n",
            "           1       0.99      0.99      0.99      5352\n",
            "\n",
            "    accuracy                           0.99     11230\n",
            "   macro avg       0.99      0.99      0.99     11230\n",
            "weighted avg       0.99      0.99      0.99     11230\n",
            "\n"
          ]
        }
      ],
      "source": [
        "# Classification report in RandomForestClassifier\n",
        "y_pred = model.predict(x_test)\n",
        "report = classification_report(y_test, y_pred)\n",
        "print(\"Classification Report:\\n\", report)"
      ]
    }
  ],
  "metadata": {
    "colab": {
      "provenance": []
    },
    "kernelspec": {
      "display_name": "Python 3",
      "name": "python3"
    },
    "language_info": {
      "name": "python"
    }
  },
  "nbformat": 4,
  "nbformat_minor": 0
}